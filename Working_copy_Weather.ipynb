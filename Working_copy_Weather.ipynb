{
 "cells": [
  {
   "cell_type": "code",
   "execution_count": 1,
   "metadata": {},
   "outputs": [],
   "source": [
    "# Dependencies and Setup\n",
    "import matplotlib.pyplot as plt\n",
    "import pandas as pd\n",
    "import numpy as np\n",
    "import requests\n",
    "import time\n",
    "from scipy.stats import linregress\n",
    "\n",
    "#import os\n",
    "#import csv\n",
    "import json"
   ]
  },
  {
   "cell_type": "code",
   "execution_count": 2,
   "metadata": {},
   "outputs": [],
   "source": [
    "# Import API key\n",
    "from config import weather_api_key\n"
   ]
  },
  {
   "cell_type": "code",
   "execution_count": 3,
   "metadata": {},
   "outputs": [],
   "source": [
    "# Incorporated citipy to determine city based on latitude and longitude\n",
    "from citipy import citipy"
   ]
  },
  {
   "cell_type": "code",
   "execution_count": 4,
   "metadata": {},
   "outputs": [],
   "source": [
    "# Output File (CSV)\n",
    "output_data_file = \"output_data/cities.csv\""
   ]
  },
  {
   "cell_type": "code",
   "execution_count": 5,
   "metadata": {},
   "outputs": [],
   "source": [
    "# Range of latitudes and longitudes\n",
    "lat_range = (-90, 90)\n",
    "lng_range = (-180, 180)"
   ]
  },
  {
   "cell_type": "code",
   "execution_count": 6,
   "metadata": {},
   "outputs": [],
   "source": [
    " # GENERATE CITIES LIST\n",
    "    \n",
    "# List for holding lat_lngs and cities\n",
    "lat_lngs = []\n",
    "cities = []"
   ]
  },
  {
   "cell_type": "code",
   "execution_count": 7,
   "metadata": {},
   "outputs": [],
   "source": [
    "# Create a set of random lat and lng combinations\n",
    "lats = np.random.uniform(lat_range[0], lat_range[1], size=1500)\n",
    "lngs = np.random.uniform(lng_range[0], lng_range[1], size=1500)\n",
    "lat_lngs = zip(lats, lngs)"
   ]
  },
  {
   "cell_type": "code",
   "execution_count": 8,
   "metadata": {},
   "outputs": [
    {
     "data": {
      "text/plain": [
       "613"
      ]
     },
     "execution_count": 8,
     "metadata": {},
     "output_type": "execute_result"
    }
   ],
   "source": [
    "# Identify nearest city for each lat, lng combination\n",
    "for lat_lng in lat_lngs:\n",
    "    city = citipy.nearest_city(lat_lng[0], lat_lng[1]).city_name\n",
    "    \n",
    "    # If the city is unique, then add it to a our cities list\n",
    "    if city not in cities:\n",
    "        cities.append(city)\n",
    "\n",
    "# Print the city count to confirm sufficient count\n",
    "len(cities)   "
   ]
  },
  {
   "cell_type": "code",
   "execution_count": 10,
   "metadata": {},
   "outputs": [
    {
     "name": "stdout",
     "output_type": "stream",
     "text": [
      "The weather API responded with :{'coord': {'lon': 114.08, 'lat': 71.92}, 'weather': [{'id': 600, 'main': 'Snow', 'description': 'light snow', 'icon': '13d'}], 'base': 'stations', 'main': {'temp': 18.66, 'feels_like': 6.51, 'temp_min': 18.66, 'temp_max': 18.66, 'pressure': 991, 'humidity': 96, 'sea_level': 991, 'grnd_level': 990}, 'visibility': 339, 'wind': {'speed': 12.35, 'deg': 118}, 'snow': {'1h': 0.14}, 'clouds': {'all': 100}, 'dt': 1602809710, 'sys': {'country': 'RU', 'sunrise': 1602805921, 'sunset': 1602836766}, 'timezone': 32400, 'id': 2017155, 'name': 'Saskylakh', 'cod': 200}\n",
      "The weather API responded with :{'coord': {'lon': -159.32, 'lat': 22.08}, 'weather': [{'id': 500, 'main': 'Rain', 'description': 'light rain', 'icon': '10d'}], 'base': 'stations', 'main': {'temp': 83.89, 'feels_like': 87.84, 'temp_min': 82.4, 'temp_max': 84.99, 'pressure': 1010, 'humidity': 78}, 'visibility': 10000, 'wind': {'speed': 12.75, 'deg': 190}, 'rain': {'1h': 0.25}, 'clouds': {'all': 40}, 'dt': 1602809632, 'sys': {'type': 1, 'id': 7873, 'country': 'US', 'sunrise': 1602779613, 'sunset': 1602821512}, 'timezone': -36000, 'id': 5848280, 'name': 'Kapaa', 'cod': 200}\n",
      "The weather API responded with :{'coord': {'lon': -134.97, 'lat': -23.12}, 'weather': [{'id': 804, 'main': 'Clouds', 'description': 'overcast clouds', 'icon': '04d'}], 'base': 'stations', 'main': {'temp': 74.37, 'feels_like': 71.29, 'temp_min': 74.37, 'temp_max': 74.37, 'pressure': 1017, 'humidity': 75, 'sea_level': 1017, 'grnd_level': 1014}, 'visibility': 10000, 'wind': {'speed': 15.57, 'deg': 68}, 'clouds': {'all': 100}, 'dt': 1602809790, 'sys': {'country': 'PF', 'sunrise': 1602771988, 'sunset': 1602817451}, 'timezone': -32400, 'id': 4030556, 'name': 'Rikitea', 'cod': 200}\n",
      "The weather API responded with :{'coord': {'lon': 168.33, 'lat': -46.6}, 'weather': [{'id': 501, 'main': 'Rain', 'description': 'moderate rain', 'icon': '10d'}], 'base': 'stations', 'main': {'temp': 59, 'feels_like': 50.61, 'temp_min': 59, 'temp_max': 59, 'pressure': 1007, 'humidity': 55}, 'visibility': 10000, 'wind': {'speed': 11.99, 'deg': 327, 'gust': 24}, 'rain': {'1h': 2.33}, 'clouds': {'all': 100}, 'dt': 1602809790, 'sys': {'type': 3, 'id': 2008959, 'country': 'NZ', 'sunrise': 1602784145, 'sunset': 1602832506}, 'timezone': 46800, 'id': 2206939, 'name': 'Bluff', 'cod': 200}\n",
      "The weather API responded with :{'coord': {'lon': 104.08, 'lat': 49.03}, 'weather': [{'id': 801, 'main': 'Clouds', 'description': 'few clouds', 'icon': '02d'}], 'base': 'stations', 'main': {'temp': 34.81, 'feels_like': 26.56, 'temp_min': 34.81, 'temp_max': 34.81, 'pressure': 1020, 'humidity': 71, 'sea_level': 1020, 'grnd_level': 871}, 'visibility': 10000, 'wind': {'speed': 6.96, 'deg': 252}, 'clouds': {'all': 11}, 'dt': 1602809790, 'sys': {'country': 'MN', 'sunrise': 1602804337, 'sunset': 1602843149}, 'timezone': 28800, 'id': 2031405, 'name': 'Erdenet', 'cod': 200}\n",
      "The weather API responded with :{'coord': {'lon': -103.15, 'lat': 44.06}, 'weather': [{'id': 800, 'main': 'Clear', 'description': 'clear sky', 'icon': '01n'}], 'base': 'stations', 'main': {'temp': 39.97, 'feels_like': 23.56, 'temp_min': 34, 'temp_max': 44.6, 'pressure': 1024, 'humidity': 35}, 'visibility': 10000, 'wind': {'speed': 19.46, 'deg': 330, 'gust': 27.51}, 'clouds': {'all': 1}, 'dt': 1602809790, 'sys': {'type': 1, 'id': 5623, 'country': 'US', 'sunrise': 1602767266, 'sunset': 1602806902}, 'timezone': -21600, 'id': 5768244, 'name': 'Rapid Valley', 'cod': 200}\n",
      "The weather API responded with :{'coord': {'lon': 115.33, 'lat': -33.65}, 'weather': [{'id': 802, 'main': 'Clouds', 'description': 'scattered clouds', 'icon': '03d'}], 'base': 'stations', 'main': {'temp': 61.32, 'feels_like': 54.19, 'temp_min': 57, 'temp_max': 64, 'pressure': 1012, 'humidity': 45}, 'visibility': 10000, 'wind': {'speed': 8.63, 'deg': 137}, 'clouds': {'all': 45}, 'dt': 1602809602, 'sys': {'type': 3, 'id': 2011706, 'country': 'AU', 'sunrise': 1602797758, 'sunset': 1602844329}, 'timezone': 28800, 'id': 2075265, 'name': 'Busselton', 'cod': 200}\n",
      "The weather API responded with :{'coord': {'lon': -1.32, 'lat': 51.07}, 'weather': [{'id': 803, 'main': 'Clouds', 'description': 'broken clouds', 'icon': '04n'}], 'base': 'stations', 'main': {'temp': 46.08, 'feels_like': 38.8, 'temp_min': 44.01, 'temp_max': 48.2, 'pressure': 1025, 'humidity': 81}, 'visibility': 10000, 'wind': {'speed': 9.17, 'deg': 10}, 'clouds': {'all': 72}, 'dt': 1602809790, 'sys': {'type': 1, 'id': 1500, 'country': 'GB', 'sunrise': 1602829839, 'sunset': 1602868232}, 'timezone': 3600, 'id': 2633858, 'name': 'Winchester', 'cod': 200}\n",
      "The weather API responded with :{'coord': {'lon': -105.24, 'lat': 38.44}, 'weather': [{'id': 800, 'main': 'Clear', 'description': 'clear sky', 'icon': '01n'}], 'base': 'stations', 'main': {'temp': 50, 'feels_like': 42.03, 'temp_min': 50, 'temp_max': 50, 'pressure': 1025, 'humidity': 43}, 'visibility': 10000, 'wind': {'speed': 6.93, 'deg': 70}, 'clouds': {'all': 1}, 'dt': 1602809790, 'sys': {'type': 1, 'id': 2746, 'country': 'US', 'sunrise': 1602767418, 'sunset': 1602807752}, 'timezone': -21600, 'id': 5416005, 'name': 'Cañon City', 'cod': 200}\n",
      "The weather API responded with :{'coord': {'lon': -45.24, 'lat': 60.14}, 'weather': [{'id': 804, 'main': 'Clouds', 'description': 'overcast clouds', 'icon': '04n'}], 'base': 'stations', 'main': {'temp': 39.79, 'feels_like': 33.62, 'temp_min': 39.79, 'temp_max': 39.79, 'pressure': 1024, 'humidity': 71, 'sea_level': 1024, 'grnd_level': 1023}, 'visibility': 10000, 'wind': {'speed': 4.41, 'deg': 111}, 'clouds': {'all': 100}, 'dt': 1602809791, 'sys': {'country': 'GL', 'sunrise': 1602754892, 'sunset': 1602791483}, 'timezone': -7200, 'id': 3421765, 'name': 'Nanortalik', 'cod': 200}\n",
      "The weather API responded with :{'coord': {'lon': 141.3, 'lat': -2.67}, 'weather': [{'id': 501, 'main': 'Rain', 'description': 'moderate rain', 'icon': '10d'}], 'base': 'stations', 'main': {'temp': 80.08, 'feels_like': 89.33, 'temp_min': 80.08, 'temp_max': 80.08, 'pressure': 1008, 'humidity': 87, 'sea_level': 1008, 'grnd_level': 1007}, 'visibility': 8419, 'wind': {'speed': 2.86, 'deg': 43}, 'rain': {'1h': 1.49}, 'clouds': {'all': 100}, 'dt': 1602809791, 'sys': {'country': 'PG', 'sunrise': 1602792909, 'sunset': 1602836714}, 'timezone': 36000, 'id': 2084442, 'name': 'Vanimo', 'cod': 200}\n",
      "The weather API responded with :{'coord': {'lon': 152.75, 'lat': 61.38}, 'weather': [{'id': 804, 'main': 'Clouds', 'description': 'overcast clouds', 'icon': '04d'}], 'base': 'stations', 'main': {'temp': 28.83, 'feels_like': 19.35, 'temp_min': 28.83, 'temp_max': 28.83, 'pressure': 991, 'humidity': 83, 'sea_level': 991, 'grnd_level': 929}, 'visibility': 10000, 'wind': {'speed': 8.77, 'deg': 253}, 'clouds': {'all': 100}, 'dt': 1602809791, 'sys': {'country': 'RU', 'sunrise': 1602794027, 'sunset': 1602830102}, 'timezone': 39600, 'id': 2120769, 'name': 'Talaya', 'cod': 200}\n",
      "The weather API responded with :{'coord': {'lon': 104.28, 'lat': 23.37}, 'weather': [{'id': 804, 'main': 'Clouds', 'description': 'overcast clouds', 'icon': '04d'}], 'base': 'stations', 'main': {'temp': 59.9, 'feels_like': 60.3, 'temp_min': 59.9, 'temp_max': 59.9, 'pressure': 1018, 'humidity': 94, 'sea_level': 1018, 'grnd_level': 865}, 'visibility': 7338, 'wind': {'speed': 3.94, 'deg': 20}, 'clouds': {'all': 100}, 'dt': 1602809791, 'sys': {'country': 'CN', 'sunrise': 1602802811, 'sunset': 1602844579}, 'timezone': 28800, 'id': 1804874, 'name': 'Kaihua', 'cod': 200}\n",
      "The weather API responded with :{'coord': {'lon': -63.5, 'lat': -21.25}, 'weather': [{'id': 803, 'main': 'Clouds', 'description': 'broken clouds', 'icon': '04n'}], 'base': 'stations', 'main': {'temp': 62.71, 'feels_like': 64.49, 'temp_min': 62.71, 'temp_max': 62.71, 'pressure': 1019, 'humidity': 83, 'sea_level': 1019, 'grnd_level': 966}, 'visibility': 10000, 'wind': {'speed': 1.05, 'deg': 131}, 'clouds': {'all': 51}, 'dt': 1602809791, 'sys': {'country': 'BO', 'sunrise': 1602754929, 'sunset': 1602800209}, 'timezone': -14400, 'id': 3901547, 'name': 'Villamontes', 'cod': 200}\n",
      "The weather API responded with :{'coord': {'lon': -17.34, 'lat': 66.04}, 'weather': [{'id': 800, 'main': 'Clear', 'description': 'clear sky', 'icon': '01n'}], 'base': 'stations', 'main': {'temp': 24.8, 'feels_like': 18.41, 'temp_min': 24.8, 'temp_max': 24.8, 'pressure': 1035, 'humidity': 100}, 'visibility': 10000, 'wind': {'speed': 3.36, 'deg': 160}, 'clouds': {'all': 0}, 'dt': 1602809791, 'sys': {'type': 1, 'id': 83, 'country': 'IS', 'sunrise': 1602835803, 'sunset': 1602869957}, 'timezone': 0, 'id': 2629833, 'name': 'Husavik', 'cod': 200}\n",
      "The weather API responded with :{'coord': {'lon': 128.87, 'lat': 71.69}, 'weather': [{'id': 804, 'main': 'Clouds', 'description': 'overcast clouds', 'icon': '04d'}], 'base': 'stations', 'main': {'temp': 23.7, 'feels_like': 16.97, 'temp_min': 23.7, 'temp_max': 23.7, 'pressure': 998, 'humidity': 98, 'sea_level': 998, 'grnd_level': 993}, 'visibility': 3896, 'wind': {'speed': 3.65, 'deg': 110}, 'clouds': {'all': 100}, 'dt': 1602809791, 'sys': {'country': 'RU', 'sunrise': 1602802270, 'sunset': 1602833319}, 'timezone': 32400, 'id': 2015306, 'name': 'Tiksi', 'cod': 200}\n"
     ]
    },
    {
     "name": "stdout",
     "output_type": "stream",
     "text": [
      "The weather API responded with :{'coord': {'lon': -90.35, 'lat': -0.74}, 'weather': [{'id': 803, 'main': 'Clouds', 'description': 'broken clouds', 'icon': '04n'}], 'base': 'stations', 'main': {'temp': 71.01, 'feels_like': 74.91, 'temp_min': 71.01, 'temp_max': 71.01, 'pressure': 1009, 'humidity': 87}, 'visibility': 10000, 'wind': {'speed': 4, 'deg': 175, 'gust': 7}, 'clouds': {'all': 54}, 'dt': 1602809792, 'sys': {'type': 3, 'id': 2005652, 'country': 'EC', 'sunrise': 1602762183, 'sunset': 1602805841}, 'timezone': -21600, 'id': 3652764, 'name': 'Puerto Ayora', 'cod': 200}\n",
      "The weather API responded with :{'coord': {'lon': -97.86, 'lat': 55.74}, 'weather': [{'id': 804, 'main': 'Clouds', 'description': 'overcast clouds', 'icon': '04n'}], 'base': 'stations', 'main': {'temp': 28.4, 'feels_like': 15.37, 'temp_min': 28.4, 'temp_max': 28.4, 'pressure': 1005, 'humidity': 63}, 'visibility': 10000, 'wind': {'speed': 13.87, 'deg': 260, 'gust': 23.04}, 'clouds': {'all': 90}, 'dt': 1602809709, 'sys': {'type': 1, 'id': 935, 'country': 'CA', 'sunrise': 1602766994, 'sunset': 1602804635}, 'timezone': -18000, 'id': 6165406, 'name': 'Thompson', 'cod': 200}\n",
      "The weather API responded with :{'coord': {'lon': -68.3, 'lat': -54.8}, 'weather': [{'id': 300, 'main': 'Drizzle', 'description': 'light intensity drizzle', 'icon': '09n'}], 'base': 'stations', 'main': {'temp': 39.2, 'feels_like': 26.15, 'temp_min': 39.2, 'temp_max': 39.2, 'pressure': 996, 'humidity': 93}, 'visibility': 6000, 'wind': {'speed': 18.34, 'deg': 230}, 'clouds': {'all': 75}, 'dt': 1602809792, 'sys': {'type': 1, 'id': 8303, 'country': 'AR', 'sunrise': 1602753736, 'sunset': 1602803706}, 'timezone': -10800, 'id': 3833367, 'name': 'Ushuaia', 'cod': 200}\n",
      "The weather API responded with :{'coord': {'lon': 147.06, 'lat': -42.78}, 'weather': [{'id': 803, 'main': 'Clouds', 'description': 'broken clouds', 'icon': '04d'}], 'base': 'stations', 'main': {'temp': 53.02, 'feels_like': 48.51, 'temp_min': 52, 'temp_max': 54, 'pressure': 1020, 'humidity': 40}, 'visibility': 10000, 'wind': {'speed': 1.01, 'deg': 233, 'gust': 7}, 'clouds': {'all': 83}, 'dt': 1602809735, 'sys': {'type': 3, 'id': 2019390, 'country': 'AU', 'sunrise': 1602789552, 'sunset': 1602837308}, 'timezone': 39600, 'id': 2155415, 'name': 'New Norfolk', 'cod': 200}\n",
      "The weather API responded with :{'coord': {'lon': 29.28, 'lat': 0.15}, 'weather': [{'id': 800, 'main': 'Clear', 'description': 'clear sky', 'icon': '01n'}], 'base': 'stations', 'main': {'temp': 56.79, 'feels_like': 56.68, 'temp_min': 56.79, 'temp_max': 56.79, 'pressure': 1011, 'humidity': 90, 'sea_level': 1011, 'grnd_level': 823}, 'visibility': 10000, 'wind': {'speed': 2.33, 'deg': 167}, 'clouds': {'all': 5}, 'dt': 1602809792, 'sys': {'country': 'CD', 'sunrise': 1602819897, 'sunset': 1602863489}, 'timezone': 7200, 'id': 217562, 'name': 'Butembo', 'cod': 200}\n",
      "The weather API responded with :{'coord': {'lon': 102.28, 'lat': 60.34}, 'weather': [{'id': 802, 'main': 'Clouds', 'description': 'scattered clouds', 'icon': '03d'}], 'base': 'stations', 'main': {'temp': 23.9, 'feels_like': 13.26, 'temp_min': 23.9, 'temp_max': 23.9, 'pressure': 1012, 'humidity': 92, 'sea_level': 1012, 'grnd_level': 977}, 'visibility': 10000, 'wind': {'speed': 10.36, 'deg': 290}, 'clouds': {'all': 31}, 'dt': 1602809792, 'sys': {'country': 'RU', 'sunrise': 1602806004, 'sunset': 1602842346}, 'timezone': 25200, 'id': 2013727, 'name': 'Vanavara', 'cod': 200}\n",
      "The weather API responded with :{'coord': {'lon': 167.48, 'lat': -22.67}, 'weather': [{'id': 501, 'main': 'Rain', 'description': 'moderate rain', 'icon': '10d'}], 'base': 'stations', 'main': {'temp': 71.64, 'feels_like': 68.22, 'temp_min': 71.64, 'temp_max': 71.64, 'pressure': 1012, 'humidity': 80, 'sea_level': 1012, 'grnd_level': 1006}, 'visibility': 10000, 'wind': {'speed': 15.57, 'deg': 125}, 'rain': {'1h': 1.024}, 'clouds': {'all': 100}, 'dt': 1602809792, 'sys': {'country': 'NC', 'sunrise': 1602785812, 'sunset': 1602831247}, 'timezone': 39600, 'id': 2137773, 'name': 'Vao', 'cod': 200}\n",
      "The weather API responded with :{'coord': {'lon': 140.3, 'lat': 35.13}, 'weather': [{'id': 803, 'main': 'Clouds', 'description': 'broken clouds', 'icon': '04d'}], 'base': 'stations', 'main': {'temp': 59.32, 'feels_like': 50.02, 'temp_min': 57, 'temp_max': 61, 'pressure': 1022, 'humidity': 62}, 'visibility': 10000, 'wind': {'speed': 14.99, 'deg': 30}, 'clouds': {'all': 75}, 'dt': 1602809792, 'sys': {'type': 1, 'id': 8057, 'country': 'JP', 'sunrise': 1602794723, 'sunset': 1602835380}, 'timezone': 32400, 'id': 2112309, 'name': 'Katsuura', 'cod': 200}\n",
      "The weather API responded with :{'coord': {'lon': 27.91, 'lat': -33.02}, 'weather': [{'id': 801, 'main': 'Clouds', 'description': 'few clouds', 'icon': '02n'}], 'base': 'stations', 'main': {'temp': 64.49, 'feels_like': 59.95, 'temp_min': 64.49, 'temp_max': 64.49, 'pressure': 1024, 'humidity': 76, 'sea_level': 1024, 'grnd_level': 1019}, 'visibility': 10000, 'wind': {'speed': 11.81, 'deg': 247}, 'clouds': {'all': 21}, 'dt': 1602809792, 'sys': {'country': 'ZA', 'sunrise': 1602818758, 'sunset': 1602865285}, 'timezone': 7200, 'id': 1006984, 'name': 'East London', 'cod': 200}\n",
      "The weather API responded with :{'coord': {'lon': -79.15, 'lat': -7.84}, 'weather': [{'id': 802, 'main': 'Clouds', 'description': 'scattered clouds', 'icon': '03n'}], 'base': 'stations', 'main': {'temp': 64.98, 'feels_like': 64.49, 'temp_min': 64.98, 'temp_max': 64.98, 'pressure': 1014, 'humidity': 75, 'sea_level': 1014, 'grnd_level': 998}, 'visibility': 10000, 'wind': {'speed': 4.7, 'deg': 161}, 'clouds': {'all': 28}, 'dt': 1602809793, 'sys': {'country': 'PE', 'sunrise': 1602759229, 'sunset': 1602803420}, 'timezone': -18000, 'id': 3698359, 'name': 'Chicama', 'cod': 200}\n",
      "The weather API responded with :{'coord': {'lon': 124.91, 'lat': 56.85}, 'weather': [{'id': 600, 'main': 'Snow', 'description': 'light snow', 'icon': '13d'}], 'base': 'stations', 'main': {'temp': 26.8, 'feels_like': 19.42, 'temp_min': 26.8, 'temp_max': 26.8, 'pressure': 1004, 'humidity': 94, 'sea_level': 1004, 'grnd_level': 919}, 'visibility': 7197, 'wind': {'speed': 5.21, 'deg': 186}, 'snow': {'1h': 0.21}, 'clouds': {'all': 100}, 'dt': 1602809793, 'sys': {'country': 'RU', 'sunrise': 1602800104, 'sunset': 1602837385}, 'timezone': 32400, 'id': 2025261, 'name': \"Chul'man\", 'cod': 200}\n",
      "The weather API responded with :{'cod': '404', 'message': 'city not found'}\n",
      "The weather API responded with :{'coord': {'lon': 140.83, 'lat': 35.73}, 'weather': [{'id': 803, 'main': 'Clouds', 'description': 'broken clouds', 'icon': '04d'}], 'base': 'stations', 'main': {'temp': 58.39, 'feels_like': 49.37, 'temp_min': 57, 'temp_max': 59, 'pressure': 1023, 'humidity': 67}, 'visibility': 10000, 'wind': {'speed': 14.99, 'deg': 350}, 'clouds': {'all': 75}, 'dt': 1602809793, 'sys': {'type': 1, 'id': 7955, 'country': 'JP', 'sunrise': 1602794628, 'sunset': 1602835221}, 'timezone': 32400, 'id': 2112802, 'name': 'Hasaki', 'cod': 200}\n",
      "The weather API responded with :{'coord': {'lon': 25.57, 'lat': -33.92}, 'weather': [{'id': 804, 'main': 'Clouds', 'description': 'overcast clouds', 'icon': '04n'}], 'base': 'stations', 'main': {'temp': 57.2, 'feels_like': 56.82, 'temp_min': 57.2, 'temp_max': 57.2, 'pressure': 1024, 'humidity': 100}, 'visibility': 10000, 'wind': {'speed': 4.7, 'deg': 280}, 'clouds': {'all': 88}, 'dt': 1602809793, 'sys': {'type': 1, 'id': 1973, 'country': 'ZA', 'sunrise': 1602819267, 'sunset': 1602865899}, 'timezone': 7200, 'id': 964420, 'name': 'Port Elizabeth', 'cod': 200}\n",
      "The weather API responded with :{'coord': {'lon': -15.21, 'lat': 64.25}, 'weather': [{'id': 801, 'main': 'Clouds', 'description': 'few clouds', 'icon': '02n'}], 'base': 'stations', 'main': {'temp': 45.21, 'feels_like': 41.02, 'temp_min': 45.21, 'temp_max': 45.21, 'pressure': 1033, 'humidity': 80, 'sea_level': 1033, 'grnd_level': 1033}, 'visibility': 10000, 'wind': {'speed': 3.29, 'deg': 241}, 'clouds': {'all': 12}, 'dt': 1602809793, 'sys': {'country': 'IS', 'sunrise': 1602834916, 'sunset': 1602869821}, 'timezone': 0, 'id': 2630299, 'name': 'Hofn', 'cod': 200}\n",
      "The weather API responded with :{'coord': {'lon': 15.39, 'lat': 67.1}, 'weather': [{'id': 804, 'main': 'Clouds', 'description': 'overcast clouds', 'icon': '04n'}], 'base': 'stations', 'main': {'temp': 40.62, 'feels_like': 35.42, 'temp_min': 39.99, 'temp_max': 42.01, 'pressure': 1020, 'humidity': 95}, 'visibility': 193, 'wind': {'speed': 5.06, 'deg': 279}, 'clouds': {'all': 100}, 'dt': 1602809794, 'sys': {'type': 3, 'id': 20044, 'country': 'NO', 'sunrise': 1602828177, 'sunset': 1602861874}, 'timezone': 7200, 'id': 3141548, 'name': 'Rognan', 'cod': 200}\n",
      "The weather API responded with :{'coord': {'lon': -135.05, 'lat': 60.72}, 'weather': [{'id': 802, 'main': 'Clouds', 'description': 'scattered clouds', 'icon': '03d'}], 'base': 'stations', 'main': {'temp': 38.37, 'feels_like': 24.46, 'temp_min': 36, 'temp_max': 39.2, 'pressure': 1019, 'humidity': 64}, 'visibility': 10000, 'wind': {'speed': 17.22, 'deg': 160}, 'clouds': {'all': 40}, 'dt': 1602809794, 'sys': {'type': 1, 'id': 983, 'country': 'CA', 'sunrise': 1602776568, 'sunset': 1602812910}, 'timezone': -25200, 'id': 6180550, 'name': 'Whitehorse', 'cod': 200}\n"
     ]
    },
    {
     "name": "stdout",
     "output_type": "stream",
     "text": [
      "The weather API responded with :{'coord': {'lon': -73.97, 'lat': 42.6}, 'weather': [{'id': 803, 'main': 'Clouds', 'description': 'broken clouds', 'icon': '04n'}], 'base': 'stations', 'main': {'temp': 63.99, 'feels_like': 65.19, 'temp_min': 63, 'temp_max': 64.99, 'pressure': 1012, 'humidity': 79}, 'visibility': 10000, 'wind': {'speed': 1.99, 'deg': 285, 'gust': 8.01}, 'clouds': {'all': 73}, 'dt': 1602809794, 'sys': {'type': 3, 'id': 2009955, 'country': 'US', 'sunrise': 1602760160, 'sunset': 1602800003}, 'timezone': -14400, 'id': 5106841, 'name': 'Albany', 'cod': 200}\n",
      "The weather API responded with :{'cod': '404', 'message': 'city not found'}\n",
      "The weather API responded with :{'coord': {'lon': 92.31, 'lat': 20.86}, 'weather': [{'id': 800, 'main': 'Clear', 'description': 'clear sky', 'icon': '01d'}], 'base': 'stations', 'main': {'temp': 80.15, 'feels_like': 87.67, 'temp_min': 80.15, 'temp_max': 80.15, 'pressure': 1007, 'humidity': 80, 'sea_level': 1007, 'grnd_level': 1007}, 'visibility': 10000, 'wind': {'speed': 3.4, 'deg': 25}, 'clouds': {'all': 0}, 'dt': 1602809794, 'sys': {'country': 'BD', 'sunrise': 1602805578, 'sunset': 1602847557}, 'timezone': 21600, 'id': 1185095, 'name': 'Teknāf', 'cod': 200}\n",
      "The weather API responded with :{'coord': {'lon': 17.94, 'lat': -33.01}, 'weather': [{'id': 804, 'main': 'Clouds', 'description': 'overcast clouds', 'icon': '04n'}], 'base': 'stations', 'main': {'temp': 55.4, 'feels_like': 53.6, 'temp_min': 55.4, 'temp_max': 55.4, 'pressure': 1017, 'humidity': 82}, 'visibility': 10000, 'wind': {'speed': 3.36, 'deg': 240}, 'clouds': {'all': 93}, 'dt': 1602809761, 'sys': {'type': 1, 'id': 1943, 'country': 'ZA', 'sunrise': 1602821149, 'sunset': 1602867679}, 'timezone': 7200, 'id': 3361934, 'name': 'Saldanha', 'cod': 200}\n",
      "The weather API responded with :{'coord': {'lon': -50.01, 'lat': -24.79}, 'weather': [{'id': 804, 'main': 'Clouds', 'description': 'overcast clouds', 'icon': '04n'}], 'base': 'stations', 'main': {'temp': 60.49, 'feels_like': 58.3, 'temp_min': 60.49, 'temp_max': 60.49, 'pressure': 1019, 'humidity': 95, 'sea_level': 1019, 'grnd_level': 907}, 'visibility': 10000, 'wind': {'speed': 9.1, 'deg': 110}, 'clouds': {'all': 100}, 'dt': 1602809794, 'sys': {'country': 'BR', 'sunrise': 1602751533, 'sunset': 1602797131}, 'timezone': -10800, 'id': 3466704, 'name': 'Castro', 'cod': 200}\n",
      "The weather API responded with :{'coord': {'lon': 147.92, 'lat': 70.63}, 'weather': [{'id': 804, 'main': 'Clouds', 'description': 'overcast clouds', 'icon': '04d'}], 'base': 'stations', 'main': {'temp': 30.51, 'feels_like': 20.62, 'temp_min': 30.51, 'temp_max': 30.51, 'pressure': 992, 'humidity': 99, 'sea_level': 992, 'grnd_level': 987}, 'visibility': 394, 'wind': {'speed': 10.76, 'deg': 21}, 'clouds': {'all': 100}, 'dt': 1602809794, 'sys': {'country': 'RU', 'sunrise': 1602797300, 'sunset': 1602829147}, 'timezone': 39600, 'id': 2126123, 'name': 'Chokurdakh', 'cod': 200}\n",
      "The weather API responded with :{'coord': {'lon': -37.64, 'lat': 65.61}, 'weather': [{'id': 500, 'main': 'Rain', 'description': 'light rain', 'icon': '10n'}], 'base': 'stations', 'main': {'temp': 42.8, 'feels_like': 35.89, 'temp_min': 42.8, 'temp_max': 42.8, 'pressure': 1033, 'humidity': 87}, 'visibility': 10000, 'wind': {'speed': 8.05, 'deg': 40}, 'rain': {'1h': 0.18}, 'clouds': {'all': 100}, 'dt': 1602809689, 'sys': {'type': 1, 'id': 81, 'country': 'GL', 'sunrise': 1602753994, 'sunset': 1602788733}, 'timezone': -7200, 'id': 3424607, 'name': 'Tasiilaq', 'cod': 200}\n",
      "The weather API responded with :{'coord': {'lon': -156.47, 'lat': 20.89}, 'weather': [{'id': 802, 'main': 'Clouds', 'description': 'scattered clouds', 'icon': '03d'}], 'base': 'stations', 'main': {'temp': 84.56, 'feels_like': 81.88, 'temp_min': 81, 'temp_max': 91.4, 'pressure': 1010, 'humidity': 43}, 'visibility': 10000, 'wind': {'speed': 10.29, 'deg': 30}, 'clouds': {'all': 40}, 'dt': 1602809557, 'sys': {'type': 1, 'id': 7879, 'country': 'US', 'sunrise': 1602778880, 'sunset': 1602820878}, 'timezone': -36000, 'id': 5847411, 'name': 'Kahului', 'cod': 200}\n",
      "The weather API responded with :{'coord': {'lon': 140.77, 'lat': -37.83}, 'weather': [{'id': 802, 'main': 'Clouds', 'description': 'scattered clouds', 'icon': '03d'}], 'base': 'stations', 'main': {'temp': 55.4, 'feels_like': 44.01, 'temp_min': 55.4, 'temp_max': 55.4, 'pressure': 1017, 'humidity': 62}, 'visibility': 10000, 'wind': {'speed': 17.22, 'deg': 90}, 'clouds': {'all': 40}, 'dt': 1602809507, 'sys': {'type': 1, 'id': 9560, 'country': 'AU', 'sunrise': 1602791404, 'sunset': 1602838474}, 'timezone': 37800, 'id': 2156643, 'name': 'Mount Gambier', 'cod': 200}\n",
      "The weather API responded with :{'coord': {'lon': -156.79, 'lat': 71.29}, 'weather': [{'id': 804, 'main': 'Clouds', 'description': 'overcast clouds', 'icon': '04d'}], 'base': 'stations', 'main': {'temp': 28.4, 'feels_like': 20.05, 'temp_min': 28.4, 'temp_max': 28.4, 'pressure': 1035, 'humidity': 68}, 'visibility': 10000, 'wind': {'speed': 5.82, 'deg': 170}, 'clouds': {'all': 90}, 'dt': 1602809795, 'sys': {'type': 1, 'id': 7649, 'country': 'US', 'sunrise': 1602784220, 'sunset': 1602815691}, 'timezone': -28800, 'id': 5880054, 'name': 'Barrow', 'cod': 200}\n",
      "The weather API responded with :{'coord': {'lon': 93.45, 'lat': 42.8}, 'weather': [{'id': 800, 'main': 'Clear', 'description': 'clear sky', 'icon': '01d'}], 'base': 'stations', 'main': {'temp': 44.87, 'feels_like': 39.09, 'temp_min': 44.87, 'temp_max': 44.87, 'pressure': 1030, 'humidity': 49, 'sea_level': 1030, 'grnd_level': 942}, 'visibility': 10000, 'wind': {'speed': 2.68, 'deg': 135}, 'clouds': {'all': 0}, 'dt': 1602809795, 'sys': {'country': 'CN', 'sunrise': 1602806430, 'sunset': 1602846158}, 'timezone': 28800, 'id': 1529484, 'name': 'Kumul', 'cod': 200}\n",
      "The weather API responded with :{'coord': {'lon': 108.8, 'lat': 15.12}, 'weather': [{'id': 501, 'main': 'Rain', 'description': 'moderate rain', 'icon': '10d'}], 'base': 'stations', 'main': {'temp': 76.26, 'feels_like': 84.36, 'temp_min': 76.26, 'temp_max': 76.26, 'pressure': 1007, 'humidity': 95, 'sea_level': 1007, 'grnd_level': 1005}, 'visibility': 6854, 'wind': {'speed': 3.71, 'deg': 306}, 'rain': {'1h': 2.66}, 'clouds': {'all': 100}, 'dt': 1602809795, 'sys': {'country': 'VN', 'sunrise': 1602801386, 'sunset': 1602843835}, 'timezone': 25200, 'id': 1568770, 'name': 'Quang Ngai', 'cod': 200}\n",
      "The weather API responded with :{'coord': {'lon': 18.42, 'lat': -33.93}, 'weather': [{'id': 804, 'main': 'Clouds', 'description': 'overcast clouds', 'icon': '04n'}], 'base': 'stations', 'main': {'temp': 60.57, 'feels_like': 52.07, 'temp_min': 60.01, 'temp_max': 61, 'pressure': 1018, 'humidity': 55}, 'visibility': 10000, 'wind': {'speed': 12.75, 'deg': 180}, 'clouds': {'all': 100}, 'dt': 1602809795, 'sys': {'type': 1, 'id': 1899, 'country': 'ZA', 'sunrise': 1602820981, 'sunset': 1602867617}, 'timezone': 7200, 'id': 3369157, 'name': 'Cape Town', 'cod': 200}\n",
      "The weather API responded with :{'coord': {'lon': 100.34, 'lat': 5.41}, 'weather': [{'id': 802, 'main': 'Clouds', 'description': 'scattered clouds', 'icon': '03d'}], 'base': 'stations', 'main': {'temp': 77, 'feels_like': 83.91, 'temp_min': 77, 'temp_max': 77, 'pressure': 1008, 'humidity': 88}, 'visibility': 7000, 'wind': {'speed': 4.25, 'deg': 121}, 'clouds': {'all': 40}, 'dt': 1602809795, 'sys': {'type': 1, 'id': 9429, 'country': 'MY', 'sunrise': 1602803043, 'sunset': 1602846238}, 'timezone': 28800, 'id': 1735106, 'name': 'George Town', 'cod': 200}\n",
      "The weather API responded with :{'coord': {'lon': 87.98, 'lat': 65.82}, 'weather': [{'id': 804, 'main': 'Clouds', 'description': 'overcast clouds', 'icon': '04n'}], 'base': 'stations', 'main': {'temp': 24.73, 'feels_like': 14.16, 'temp_min': 24.73, 'temp_max': 24.73, 'pressure': 1008, 'humidity': 98, 'sea_level': 1008, 'grnd_level': 1002}, 'visibility': 4728, 'wind': {'speed': 10.67, 'deg': 275}, 'clouds': {'all': 98}, 'dt': 1602809795, 'sys': {'country': 'RU', 'sunrise': 1602810419, 'sunset': 1602844795}, 'timezone': 25200, 'id': 1488903, 'name': 'Turukhansk', 'cod': 200}\n",
      "The weather API responded with :{'coord': {'lon': -155.09, 'lat': 19.73}, 'weather': [{'id': 800, 'main': 'Clear', 'description': 'clear sky', 'icon': '01d'}], 'base': 'stations', 'main': {'temp': 80.42, 'feels_like': 78.21, 'temp_min': 75, 'temp_max': 86, 'pressure': 1011, 'humidity': 58}, 'visibility': 10000, 'wind': {'speed': 12.75, 'deg': 110}, 'clouds': {'all': 1}, 'dt': 1602809796, 'sys': {'type': 1, 'id': 7881, 'country': 'US', 'sunrise': 1602778501, 'sunset': 1602820595}, 'timezone': -36000, 'id': 5855927, 'name': 'Hilo', 'cod': 200}\n"
     ]
    },
    {
     "name": "stdout",
     "output_type": "stream",
     "text": [
      "The weather API responded with :{'coord': {'lon': 147.33, 'lat': -42.88}, 'weather': [{'id': 803, 'main': 'Clouds', 'description': 'broken clouds', 'icon': '04d'}], 'base': 'stations', 'main': {'temp': 52.07, 'feels_like': 45.75, 'temp_min': 50, 'temp_max': 54, 'pressure': 1024, 'humidity': 53}, 'visibility': 10000, 'wind': {'speed': 5.82, 'deg': 30}, 'clouds': {'all': 75}, 'dt': 1602809712, 'sys': {'type': 1, 'id': 9545, 'country': 'AU', 'sunrise': 1602789479, 'sunset': 1602837250}, 'timezone': 39600, 'id': 2163355, 'name': 'Hobart', 'cod': 200}\n"
     ]
    }
   ],
   "source": [
    "# PERFORM API CALLS\n",
    "#-----------------------------------\n",
    "\n",
    "# define the endpoint for weather API\n",
    "#api.openweathermap.org/data/2.5/weather?q={city name}&appid={API key}\n",
    "url = \"http://api.openweathermap.org/data/2.5/weather?units=Imperial&appid=\"+weather_api_key\n",
    "\n",
    "\n",
    "\n",
    "for city in cities[:50]:\n",
    "    cityurl = url+\"&q=\"+city\n",
    "    result=requests.get(cityurl).json()\n",
    "    \n",
    "\n",
    "\n",
    "    print(f\"The weather API responded with :{result}\")\n",
    "\n",
    "\n"
   ]
  },
  {
   "cell_type": "code",
   "execution_count": null,
   "metadata": {},
   "outputs": [],
   "source": []
  },
  {
   "cell_type": "code",
   "execution_count": null,
   "metadata": {},
   "outputs": [],
   "source": []
  },
  {
   "cell_type": "code",
   "execution_count": null,
   "metadata": {},
   "outputs": [],
   "source": []
  },
  {
   "cell_type": "code",
   "execution_count": null,
   "metadata": {},
   "outputs": [],
   "source": []
  },
  {
   "cell_type": "code",
   "execution_count": null,
   "metadata": {},
   "outputs": [],
   "source": []
  },
  {
   "cell_type": "code",
   "execution_count": null,
   "metadata": {},
   "outputs": [],
   "source": []
  }
 ],
 "metadata": {
  "kernelspec": {
   "display_name": "Python [conda env:PythonData]",
   "language": "python",
   "name": "conda-env-PythonData-py"
  },
  "language_info": {
   "codemirror_mode": {
    "name": "ipython",
    "version": 3
   },
   "file_extension": ".py",
   "mimetype": "text/x-python",
   "name": "python",
   "nbconvert_exporter": "python",
   "pygments_lexer": "ipython3",
   "version": "3.6.10"
  }
 },
 "nbformat": 4,
 "nbformat_minor": 4
}

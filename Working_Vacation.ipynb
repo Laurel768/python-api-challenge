{
 "cells": [
  {
   "cell_type": "code",
   "execution_count": 14,
   "metadata": {},
   "outputs": [],
   "source": [
    "# Dependencies and Setup\n",
    "import matplotlib.pyplot as plt\n",
    "import pandas as pd\n",
    "import numpy as np\n",
    "import requests\n",
    "import gmaps\n",
    "import os\n",
    "import csv\n",
    "\n",
    "# Import API key\n",
    "from config import g_key"
   ]
  },
  {
   "cell_type": "code",
   "execution_count": 16,
   "metadata": {},
   "outputs": [
    {
     "data": {
      "text/html": [
       "<div>\n",
       "<style scoped>\n",
       "    .dataframe tbody tr th:only-of-type {\n",
       "        vertical-align: middle;\n",
       "    }\n",
       "\n",
       "    .dataframe tbody tr th {\n",
       "        vertical-align: top;\n",
       "    }\n",
       "\n",
       "    .dataframe thead th {\n",
       "        text-align: right;\n",
       "    }\n",
       "</style>\n",
       "<table border=\"1\" class=\"dataframe\">\n",
       "  <thead>\n",
       "    <tr style=\"text-align: right;\">\n",
       "      <th></th>\n",
       "      <th>Unnamed: 0</th>\n",
       "      <th>City</th>\n",
       "      <th>Latitude</th>\n",
       "      <th>Longitude</th>\n",
       "      <th>Max Temp</th>\n",
       "      <th>Humidity</th>\n",
       "      <th>Cloudiness</th>\n",
       "      <th>Wind Speed</th>\n",
       "      <th>Country</th>\n",
       "      <th>Date</th>\n",
       "    </tr>\n",
       "  </thead>\n",
       "  <tbody>\n",
       "    <tr>\n",
       "      <th>0</th>\n",
       "      <td>0</td>\n",
       "      <td>Kalmunai</td>\n",
       "      <td>7.42</td>\n",
       "      <td>81.82</td>\n",
       "      <td>79.61</td>\n",
       "      <td>76</td>\n",
       "      <td>97</td>\n",
       "      <td>2.46</td>\n",
       "      <td>LK</td>\n",
       "      <td>1603662340</td>\n",
       "    </tr>\n",
       "    <tr>\n",
       "      <th>1</th>\n",
       "      <td>1</td>\n",
       "      <td>Torbay</td>\n",
       "      <td>47.67</td>\n",
       "      <td>-52.73</td>\n",
       "      <td>41.27</td>\n",
       "      <td>80</td>\n",
       "      <td>75</td>\n",
       "      <td>20.80</td>\n",
       "      <td>CA</td>\n",
       "      <td>1603662340</td>\n",
       "    </tr>\n",
       "    <tr>\n",
       "      <th>2</th>\n",
       "      <td>2</td>\n",
       "      <td>Antsohihy</td>\n",
       "      <td>-14.88</td>\n",
       "      <td>47.99</td>\n",
       "      <td>75.85</td>\n",
       "      <td>58</td>\n",
       "      <td>27</td>\n",
       "      <td>5.99</td>\n",
       "      <td>MG</td>\n",
       "      <td>1603662340</td>\n",
       "    </tr>\n",
       "    <tr>\n",
       "      <th>3</th>\n",
       "      <td>3</td>\n",
       "      <td>Ixtapa</td>\n",
       "      <td>20.70</td>\n",
       "      <td>-105.20</td>\n",
       "      <td>87.91</td>\n",
       "      <td>74</td>\n",
       "      <td>20</td>\n",
       "      <td>9.17</td>\n",
       "      <td>MX</td>\n",
       "      <td>1603662340</td>\n",
       "    </tr>\n",
       "    <tr>\n",
       "      <th>4</th>\n",
       "      <td>4</td>\n",
       "      <td>Codrington</td>\n",
       "      <td>-38.27</td>\n",
       "      <td>141.97</td>\n",
       "      <td>51.96</td>\n",
       "      <td>70</td>\n",
       "      <td>0</td>\n",
       "      <td>18.77</td>\n",
       "      <td>AU</td>\n",
       "      <td>1603662340</td>\n",
       "    </tr>\n",
       "  </tbody>\n",
       "</table>\n",
       "</div>"
      ],
      "text/plain": [
       "   Unnamed: 0        City  Latitude  Longitude  Max Temp  Humidity  \\\n",
       "0           0    Kalmunai      7.42      81.82     79.61        76   \n",
       "1           1      Torbay     47.67     -52.73     41.27        80   \n",
       "2           2   Antsohihy    -14.88      47.99     75.85        58   \n",
       "3           3      Ixtapa     20.70    -105.20     87.91        74   \n",
       "4           4  Codrington    -38.27     141.97     51.96        70   \n",
       "\n",
       "   Cloudiness  Wind Speed Country        Date  \n",
       "0          97        2.46      LK  1603662340  \n",
       "1          75       20.80      CA  1603662340  \n",
       "2          27        5.99      MG  1603662340  \n",
       "3          20        9.17      MX  1603662340  \n",
       "4           0       18.77      AU  1603662340  "
      ]
     },
     "execution_count": 16,
     "metadata": {},
     "output_type": "execute_result"
    }
   ],
   "source": [
    "#Load the csv exported in Part I to a DataFrame\n",
    "\n",
    "cities = pd.read_csv(\"cities.csv\")\n",
    "cities.head()\n",
    "\n"
   ]
  },
  {
   "cell_type": "code",
   "execution_count": null,
   "metadata": {},
   "outputs": [],
   "source": [
    "# Humidity Heatmap\n",
    "# Configure gmaps.\n",
    "# Use the Lat and Lng as locations and Humidity as the weight.\n",
    "# Add Heatmap layer to map."
   ]
  },
  {
   "cell_type": "code",
   "execution_count": null,
   "metadata": {},
   "outputs": [],
   "source": [
    "# Create new DataFrame fitting weather criteria\n",
    "# Narrow down the cities to fit weather conditions.\n",
    "# Drop any rows will null values."
   ]
  },
  {
   "cell_type": "code",
   "execution_count": null,
   "metadata": {},
   "outputs": [],
   "source": [
    "# Hotel Map\n",
    "# Store into variable named hotel_df.\n",
    "# Add a \"Hotel Name\" column to the DataFrame.\n",
    "# Set parameters to search for hotels with 5000 meters.\n",
    "# Hit the Google Places API for each city's coordinates.\n",
    "# Store the first Hotel result into the DataFrame.\n",
    "# Plot markers on top of the heatmap."
   ]
  },
  {
   "cell_type": "code",
   "execution_count": null,
   "metadata": {},
   "outputs": [],
   "source": [
    "# NOTE: Do not change any of the code in this cell\n",
    "\n",
    "# Using the template add the hotel marks to the heatmap\n",
    "info_box_template = \"\"\"\n",
    "<dl>\n",
    "<dt>Name</dt><dd>{Hotel Name}</dd>\n",
    "<dt>City</dt><dd>{City}</dd>\n",
    "<dt>Country</dt><dd>{Country}</dd>\n",
    "</dl>\n",
    "\"\"\"\n",
    "# Store the DataFrame Row\n",
    "# NOTE: be sure to update with your DataFrame name\n",
    "hotel_info = [info_box_template.format(**row) for index, row in hotel_df.iterrows()]\n",
    "locations = hotel_df[[\"Lat\", \"Lng\"]]"
   ]
  },
  {
   "cell_type": "code",
   "execution_count": null,
   "metadata": {},
   "outputs": [],
   "source": [
    "# Add marker layer ontop of heat map\n",
    "\n",
    "\n",
    "# Display figure\n"
   ]
  }
 ],
 "metadata": {
  "kernelspec": {
   "display_name": "Python [conda env:PythonData]",
   "language": "python",
   "name": "conda-env-PythonData-py"
  },
  "language_info": {
   "codemirror_mode": {
    "name": "ipython",
    "version": 3
   },
   "file_extension": ".py",
   "mimetype": "text/x-python",
   "name": "python",
   "nbconvert_exporter": "python",
   "pygments_lexer": "ipython3",
   "version": "3.6.10"
  }
 },
 "nbformat": 4,
 "nbformat_minor": 4
}
